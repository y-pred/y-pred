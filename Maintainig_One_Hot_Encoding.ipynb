{
  "nbformat": 4,
  "nbformat_minor": 0,
  "metadata": {
    "colab": {
      "provenance": []
    },
    "kernelspec": {
      "name": "python3",
      "display_name": "Python 3"
    },
    "language_info": {
      "name": "python"
    }
  },
  "cells": [
    {
      "cell_type": "code",
      "execution_count": 1,
      "metadata": {
        "id": "3msfHQdIhf-H"
      },
      "outputs": [],
      "source": [
        "import pandas as pd\n",
        "\n",
        "# Sample dataset with a categorical variable\n",
        "data = {'category': ['A', 'B', 'C', 'A', 'C', 'B']}\n",
        "df = pd.DataFrame(data)"
      ]
    },
    {
      "cell_type": "code",
      "source": [
        "#Perform one hot encoding\n",
        "one_hot_encoded = pd.get_dummies(df['category'])"
      ],
      "metadata": {
        "id": "txVh51byhlyE"
      },
      "execution_count": 3,
      "outputs": []
    },
    {
      "cell_type": "code",
      "source": [
        "#Concatenate columns\n",
        "df_encoded = pd.concat([df,one_hot_encoded],axis=1)\n",
        "print(df_encoded)"
      ],
      "metadata": {
        "colab": {
          "base_uri": "https://localhost:8080/"
        },
        "id": "izh-1DlIhujk",
        "outputId": "cffeb7c1-3163-4d7c-acc1-b4060f3857b5"
      },
      "execution_count": 4,
      "outputs": [
        {
          "output_type": "stream",
          "name": "stdout",
          "text": [
            "  category  A  B  C\n",
            "0        A  1  0  0\n",
            "1        B  0  1  0\n",
            "2        C  0  0  1\n",
            "3        A  1  0  0\n",
            "4        C  0  0  1\n",
            "5        B  0  1  0\n"
          ]
        }
      ]
    },
    {
      "cell_type": "code",
      "source": [
        "#Example of new data to predict\n",
        "new_data = {'category':['C']}\n",
        "df_new=pd.DataFrame(new_data)\n",
        "print(df_new)"
      ],
      "metadata": {
        "colab": {
          "base_uri": "https://localhost:8080/"
        },
        "id": "fS2QuMJ0h8oy",
        "outputId": "0084e1e7-dd0c-4909-deb4-b1829fa066ab"
      },
      "execution_count": 20,
      "outputs": [
        {
          "output_type": "stream",
          "name": "stdout",
          "text": [
            "  category\n",
            "0        C\n"
          ]
        }
      ]
    },
    {
      "cell_type": "code",
      "source": [
        "#Perform one_hot_encoding on the new df\n",
        "one_hot_encoded_new = pd.get_dummies(df_new['category'])\n",
        "df_encoded_new = pd.concat([df_new,one_hot_encoded_new], axis=1)\n",
        "print(df_encoded_new)"
      ],
      "metadata": {
        "colab": {
          "base_uri": "https://localhost:8080/"
        },
        "id": "_A0hvaO3iOjK",
        "outputId": "191e0e85-1567-4602-abd1-2f7f1c5db5b1"
      },
      "execution_count": 21,
      "outputs": [
        {
          "output_type": "stream",
          "name": "stdout",
          "text": [
            "  category  C\n",
            "0        C  1\n"
          ]
        }
      ]
    },
    {
      "cell_type": "code",
      "source": [
        "set(df_encoded.columns)"
      ],
      "metadata": {
        "colab": {
          "base_uri": "https://localhost:8080/"
        },
        "id": "MoOzgyiXildq",
        "outputId": "94894fff-8430-4e04-fc2e-ba1ff63c1f3a"
      },
      "execution_count": 22,
      "outputs": [
        {
          "output_type": "execute_result",
          "data": {
            "text/plain": [
              "{'A', 'B', 'C', 'category'}"
            ]
          },
          "metadata": {},
          "execution_count": 22
        }
      ]
    },
    {
      "cell_type": "code",
      "source": [
        "set(df_encoded_new.columns)"
      ],
      "metadata": {
        "colab": {
          "base_uri": "https://localhost:8080/"
        },
        "id": "0PIyuQDci_-u",
        "outputId": "96be3fd5-7c5a-4a90-f71d-ce4deb48b763"
      },
      "execution_count": 23,
      "outputs": [
        {
          "output_type": "execute_result",
          "data": {
            "text/plain": [
              "{'C', 'category'}"
            ]
          },
          "metadata": {},
          "execution_count": 23
        }
      ]
    },
    {
      "cell_type": "code",
      "source": [
        "missing_cols = set(df_encoded.columns)-set(df_encoded_new.columns)\n",
        "print(missing_cols)"
      ],
      "metadata": {
        "colab": {
          "base_uri": "https://localhost:8080/"
        },
        "id": "bDGzS3MDjNUy",
        "outputId": "a6bdffa7-72f7-4e4b-f09e-b2795686b832"
      },
      "execution_count": 24,
      "outputs": [
        {
          "output_type": "stream",
          "name": "stdout",
          "text": [
            "{'A', 'B'}\n"
          ]
        }
      ]
    },
    {
      "cell_type": "code",
      "source": [
        "for col in missing_cols:\n",
        "  df_encoded_new[col] = 0"
      ],
      "metadata": {
        "id": "pA3BK-nPjgz5"
      },
      "execution_count": 25,
      "outputs": []
    },
    {
      "cell_type": "code",
      "source": [
        "# Reorder the columns to match the order of the one-hot encoded columns from the training data\n",
        "df_encoded_new = df_encoded_new[df_encoded.columns]"
      ],
      "metadata": {
        "id": "8OLEBRTEjxTq"
      },
      "execution_count": 26,
      "outputs": []
    },
    {
      "cell_type": "code",
      "source": [
        "print(df_encoded_new)"
      ],
      "metadata": {
        "colab": {
          "base_uri": "https://localhost:8080/"
        },
        "id": "nI-IwVUmj42p",
        "outputId": "1b999dd4-a990-4622-bed0-b834a72ebb1d"
      },
      "execution_count": 27,
      "outputs": [
        {
          "output_type": "stream",
          "name": "stdout",
          "text": [
            "  category  A  B  C\n",
            "0        C  0  0  1\n"
          ]
        }
      ]
    }
  ]
}