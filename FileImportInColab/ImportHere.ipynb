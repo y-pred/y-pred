{
  "nbformat": 4,
  "nbformat_minor": 0,
  "metadata": {
    "colab": {
      "provenance": []
    },
    "kernelspec": {
      "name": "python3",
      "display_name": "Python 3"
    },
    "language_info": {
      "name": "python"
    }
  },
  "cells": [
    {
      "cell_type": "code",
      "execution_count": 1,
      "metadata": {
        "colab": {
          "base_uri": "https://localhost:8080/"
        },
        "id": "QEPq_WMLCiXS",
        "outputId": "0b7ee811-9c3f-4ad5-d92d-57de1802fbf1"
      },
      "outputs": [
        {
          "output_type": "stream",
          "name": "stdout",
          "text": [
            "This is a test message\n"
          ]
        }
      ],
      "source": [
        "# Main notebook\n",
        "\n",
        "# Add the path to the directory containing the functions.py file\n",
        "import sys\n",
        "sys.path.append('/content/test_py.py')\n",
        "\n",
        "# Import the function\n",
        "from test_py import *\n",
        "\n",
        "# Call the function\n",
        "printTest()\n"
      ]
    }
  ]
}